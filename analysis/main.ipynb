{
 "cells": [
  {
   "cell_type": "code",
   "execution_count": 51,
   "metadata": {},
   "outputs": [],
   "source": [
    "import pandas as pd\n",
    "import numpy as np\n",
    "import matplotlib.pyplot as plt\n",
    "import seaborn as sns\n",
    "import re\n",
    "\n",
    "df = pd.read_csv(\"../src/Flux_HistoPrice_example.csv\")"
   ]
  },
  {
   "attachments": {},
   "cell_type": "markdown",
   "metadata": {},
   "source": [
    "## Explore the data"
   ]
  },
  {
   "cell_type": "code",
   "execution_count": 52,
   "metadata": {},
   "outputs": [
    {
     "data": {
      "text/html": [
       "<div>\n",
       "<style scoped>\n",
       "    .dataframe tbody tr th:only-of-type {\n",
       "        vertical-align: middle;\n",
       "    }\n",
       "\n",
       "    .dataframe tbody tr th {\n",
       "        vertical-align: top;\n",
       "    }\n",
       "\n",
       "    .dataframe thead th {\n",
       "        text-align: right;\n",
       "    }\n",
       "</style>\n",
       "<table border=\"1\" class=\"dataframe\">\n",
       "  <thead>\n",
       "    <tr style=\"text-align: right;\">\n",
       "      <th></th>\n",
       "      <th>vnid</th>\n",
       "      <th>vintage</th>\n",
       "      <th>PriceHistory</th>\n",
       "    </tr>\n",
       "  </thead>\n",
       "  <tbody>\n",
       "    <tr>\n",
       "      <th>0</th>\n",
       "      <td>1000001</td>\n",
       "      <td>2013</td>\n",
       "      <td>[{202107,38}]</td>\n",
       "    </tr>\n",
       "    <tr>\n",
       "      <th>1</th>\n",
       "      <td>1000232</td>\n",
       "      <td>2008</td>\n",
       "      <td>[{201212,18},{201301,18},{201303,18},{201306,1...</td>\n",
       "    </tr>\n",
       "    <tr>\n",
       "      <th>2</th>\n",
       "      <td>1000232</td>\n",
       "      <td>2007</td>\n",
       "      <td>[{201203,18},{201206,19},{201209,18},{201303,2...</td>\n",
       "    </tr>\n",
       "    <tr>\n",
       "      <th>3</th>\n",
       "      <td>1000245</td>\n",
       "      <td>2005</td>\n",
       "      <td>[{201201,81},{201203,81},{201206,81},{201209,8...</td>\n",
       "    </tr>\n",
       "    <tr>\n",
       "      <th>4</th>\n",
       "      <td>1000287</td>\n",
       "      <td>2010</td>\n",
       "      <td>[{201506,19},{201612,41},{201701,40},{201703,4...</td>\n",
       "    </tr>\n",
       "  </tbody>\n",
       "</table>\n",
       "</div>"
      ],
      "text/plain": [
       "      vnid  vintage                                       PriceHistory\n",
       "0  1000001     2013                                      [{202107,38}]\n",
       "1  1000232     2008  [{201212,18},{201301,18},{201303,18},{201306,1...\n",
       "2  1000232     2007  [{201203,18},{201206,19},{201209,18},{201303,2...\n",
       "3  1000245     2005  [{201201,81},{201203,81},{201206,81},{201209,8...\n",
       "4  1000287     2010  [{201506,19},{201612,41},{201701,40},{201703,4..."
      ]
     },
     "execution_count": 52,
     "metadata": {},
     "output_type": "execute_result"
    }
   ],
   "source": [
    "df.head()"
   ]
  },
  {
   "cell_type": "code",
   "execution_count": 53,
   "metadata": {},
   "outputs": [
    {
     "data": {
      "text/plain": [
       "Index(['vnid', 'vintage', 'PriceHistory'], dtype='object')"
      ]
     },
     "execution_count": 53,
     "metadata": {},
     "output_type": "execute_result"
    }
   ],
   "source": [
    "df.columns"
   ]
  },
  {
   "cell_type": "code",
   "execution_count": 54,
   "metadata": {},
   "outputs": [
    {
     "data": {
      "text/plain": [
       "count      39.000000\n",
       "mean     2009.743590\n",
       "std         4.540565\n",
       "min      1990.000000\n",
       "25%      2008.000000\n",
       "50%      2010.000000\n",
       "75%      2012.000000\n",
       "max      2019.000000\n",
       "Name: vintage, dtype: float64"
      ]
     },
     "execution_count": 54,
     "metadata": {},
     "output_type": "execute_result"
    }
   ],
   "source": [
    "df[\"vintage\"].describe()"
   ]
  },
  {
   "attachments": {},
   "cell_type": "markdown",
   "metadata": {},
   "source": [
    "### Check if we have duplicates or null values"
   ]
  },
  {
   "cell_type": "code",
   "execution_count": 55,
   "metadata": {},
   "outputs": [
    {
     "data": {
      "text/plain": [
       "1"
      ]
     },
     "execution_count": 55,
     "metadata": {},
     "output_type": "execute_result"
    }
   ],
   "source": [
    "df.duplicated().sum()"
   ]
  },
  {
   "cell_type": "code",
   "execution_count": 56,
   "metadata": {},
   "outputs": [
    {
     "name": "stdout",
     "output_type": "stream",
     "text": [
      "       vnid  vintage                                       PriceHistory\n",
      "9   1000287     2011  [{201812,45},{201901,43},{201903,44},{201906,4...\n",
      "10  1000287     2011  [{201812,45},{201901,43},{201903,44},{201906,4...\n"
     ]
    }
   ],
   "source": [
    "duplicates = df[df.duplicated(keep=False)]\n",
    "print(duplicates)"
   ]
  },
  {
   "attachments": {},
   "cell_type": "markdown",
   "metadata": {},
   "source": [
    "🔍 - Here, we have the same line. So I'm going to delete this duplicate."
   ]
  },
  {
   "cell_type": "code",
   "execution_count": 57,
   "metadata": {},
   "outputs": [],
   "source": [
    "df = df.drop_duplicates()"
   ]
  },
  {
   "cell_type": "code",
   "execution_count": 58,
   "metadata": {},
   "outputs": [
    {
     "data": {
      "text/html": [
       "<div>\n",
       "<style scoped>\n",
       "    .dataframe tbody tr th:only-of-type {\n",
       "        vertical-align: middle;\n",
       "    }\n",
       "\n",
       "    .dataframe tbody tr th {\n",
       "        vertical-align: top;\n",
       "    }\n",
       "\n",
       "    .dataframe thead th {\n",
       "        text-align: right;\n",
       "    }\n",
       "</style>\n",
       "<table border=\"1\" class=\"dataframe\">\n",
       "  <thead>\n",
       "    <tr style=\"text-align: right;\">\n",
       "      <th></th>\n",
       "      <th>vnid</th>\n",
       "      <th>vintage</th>\n",
       "      <th>PriceHistory</th>\n",
       "    </tr>\n",
       "  </thead>\n",
       "  <tbody>\n",
       "    <tr>\n",
       "      <th>0</th>\n",
       "      <td>1000001</td>\n",
       "      <td>2013</td>\n",
       "      <td>[{202107,38}]</td>\n",
       "    </tr>\n",
       "    <tr>\n",
       "      <th>1</th>\n",
       "      <td>1000232</td>\n",
       "      <td>2008</td>\n",
       "      <td>[{201212,18},{201301,18},{201303,18},{201306,1...</td>\n",
       "    </tr>\n",
       "    <tr>\n",
       "      <th>2</th>\n",
       "      <td>1000232</td>\n",
       "      <td>2007</td>\n",
       "      <td>[{201203,18},{201206,19},{201209,18},{201303,2...</td>\n",
       "    </tr>\n",
       "    <tr>\n",
       "      <th>3</th>\n",
       "      <td>1000245</td>\n",
       "      <td>2005</td>\n",
       "      <td>[{201201,81},{201203,81},{201206,81},{201209,8...</td>\n",
       "    </tr>\n",
       "    <tr>\n",
       "      <th>4</th>\n",
       "      <td>1000287</td>\n",
       "      <td>2010</td>\n",
       "      <td>[{201506,19},{201612,41},{201701,40},{201703,4...</td>\n",
       "    </tr>\n",
       "    <tr>\n",
       "      <th>5</th>\n",
       "      <td>1000287</td>\n",
       "      <td>1990</td>\n",
       "      <td>[{200912,79},{201012,71},{201101,70},{201206,1...</td>\n",
       "    </tr>\n",
       "    <tr>\n",
       "      <th>6</th>\n",
       "      <td>1000287</td>\n",
       "      <td>2008</td>\n",
       "      <td>[{201606,41},{201609,41},{201612,42},{201701,4...</td>\n",
       "    </tr>\n",
       "    <tr>\n",
       "      <th>7</th>\n",
       "      <td>1000287</td>\n",
       "      <td>2012</td>\n",
       "      <td>[{201501,12},{201503,12},{202003,45},{202006,4...</td>\n",
       "    </tr>\n",
       "    <tr>\n",
       "      <th>8</th>\n",
       "      <td>1000287</td>\n",
       "      <td>2009</td>\n",
       "      <td>[{201403,41},{201406,41},{201409,35},{201412,4...</td>\n",
       "    </tr>\n",
       "    <tr>\n",
       "      <th>9</th>\n",
       "      <td>1000287</td>\n",
       "      <td>2011</td>\n",
       "      <td>[{201812,45},{201901,43},{201903,44},{201906,4...</td>\n",
       "    </tr>\n",
       "    <tr>\n",
       "      <th>11</th>\n",
       "      <td>1000287</td>\n",
       "      <td>2013</td>\n",
       "      <td>[{201712,15},{201801,15},{201803,15},{201806,1...</td>\n",
       "    </tr>\n",
       "    <tr>\n",
       "      <th>12</th>\n",
       "      <td>1000287</td>\n",
       "      <td>2007</td>\n",
       "      <td>[{201209,31},{201212,45},{201301,39},{201303,3...</td>\n",
       "    </tr>\n",
       "  </tbody>\n",
       "</table>\n",
       "</div>"
      ],
      "text/plain": [
       "       vnid  vintage                                       PriceHistory\n",
       "0   1000001     2013                                      [{202107,38}]\n",
       "1   1000232     2008  [{201212,18},{201301,18},{201303,18},{201306,1...\n",
       "2   1000232     2007  [{201203,18},{201206,19},{201209,18},{201303,2...\n",
       "3   1000245     2005  [{201201,81},{201203,81},{201206,81},{201209,8...\n",
       "4   1000287     2010  [{201506,19},{201612,41},{201701,40},{201703,4...\n",
       "5   1000287     1990  [{200912,79},{201012,71},{201101,70},{201206,1...\n",
       "6   1000287     2008  [{201606,41},{201609,41},{201612,42},{201701,4...\n",
       "7   1000287     2012  [{201501,12},{201503,12},{202003,45},{202006,4...\n",
       "8   1000287     2009  [{201403,41},{201406,41},{201409,35},{201412,4...\n",
       "9   1000287     2011  [{201812,45},{201901,43},{201903,44},{201906,4...\n",
       "11  1000287     2013  [{201712,15},{201801,15},{201803,15},{201806,1...\n",
       "12  1000287     2007  [{201209,31},{201212,45},{201301,39},{201303,3..."
      ]
     },
     "execution_count": 58,
     "metadata": {},
     "output_type": "execute_result"
    }
   ],
   "source": [
    "df.head(12)"
   ]
  },
  {
   "cell_type": "code",
   "execution_count": 59,
   "metadata": {},
   "outputs": [
    {
     "data": {
      "text/plain": [
       "vnid            0\n",
       "vintage         0\n",
       "PriceHistory    0\n",
       "dtype: int64"
      ]
     },
     "execution_count": 59,
     "metadata": {},
     "output_type": "execute_result"
    }
   ],
   "source": [
    "df.isna().sum()"
   ]
  },
  {
   "attachments": {},
   "cell_type": "markdown",
   "metadata": {},
   "source": [
    "## Refactoring the 'Pricehistory' column"
   ]
  },
  {
   "attachments": {},
   "cell_type": "markdown",
   "metadata": {},
   "source": [
    "### First try - ❌"
   ]
  },
  {
   "cell_type": "code",
   "execution_count": 60,
   "metadata": {},
   "outputs": [],
   "source": [
    "# df[\"Date\"] = None\n",
    "# df[\"Prix\"] = None\n",
    "\n",
    "\n",
    "# for index, row in df.iterrows():\n",
    "#     price_history = row[\"PriceHistory\"]\n",
    "#     for pair in eval(price_history):\n",
    "#         date, price = pair\n",
    "#         df.at[index, \"Date\"] = date\n",
    "#         df.at[index, \"Prix\"] = price"
   ]
  },
  {
   "attachments": {},
   "cell_type": "markdown",
   "metadata": {},
   "source": [
    "### Second try - ✅"
   ]
  },
  {
   "cell_type": "code",
   "execution_count": 61,
   "metadata": {},
   "outputs": [],
   "source": [
    "def extract_dates_prices(row):\n",
    "    price_history = row[\"PriceHistory\"]\n",
    "    dates = []\n",
    "    prices = []\n",
    "    matches = re.findall(r\"{(\\d+),(\\d+)}\", price_history)\n",
    "    for match in matches:\n",
    "        date, price = match\n",
    "        dates.append(int(date))\n",
    "        prices.append(int(price))\n",
    "    return dates, prices"
   ]
  },
  {
   "cell_type": "code",
   "execution_count": 62,
   "metadata": {},
   "outputs": [],
   "source": [
    "df[[\"date\", \"price\"]] = df.apply(lambda row: pd.Series(extract_dates_prices(row)), axis=1)"
   ]
  },
  {
   "cell_type": "code",
   "execution_count": 63,
   "metadata": {},
   "outputs": [
    {
     "data": {
      "text/html": [
       "<div>\n",
       "<style scoped>\n",
       "    .dataframe tbody tr th:only-of-type {\n",
       "        vertical-align: middle;\n",
       "    }\n",
       "\n",
       "    .dataframe tbody tr th {\n",
       "        vertical-align: top;\n",
       "    }\n",
       "\n",
       "    .dataframe thead th {\n",
       "        text-align: right;\n",
       "    }\n",
       "</style>\n",
       "<table border=\"1\" class=\"dataframe\">\n",
       "  <thead>\n",
       "    <tr style=\"text-align: right;\">\n",
       "      <th></th>\n",
       "      <th>vnid</th>\n",
       "      <th>vintage</th>\n",
       "      <th>PriceHistory</th>\n",
       "      <th>date</th>\n",
       "      <th>price</th>\n",
       "    </tr>\n",
       "  </thead>\n",
       "  <tbody>\n",
       "    <tr>\n",
       "      <th>0</th>\n",
       "      <td>1000001</td>\n",
       "      <td>2013</td>\n",
       "      <td>[{202107,38}]</td>\n",
       "      <td>[202107]</td>\n",
       "      <td>[38]</td>\n",
       "    </tr>\n",
       "    <tr>\n",
       "      <th>1</th>\n",
       "      <td>1000232</td>\n",
       "      <td>2008</td>\n",
       "      <td>[{201212,18},{201301,18},{201303,18},{201306,1...</td>\n",
       "      <td>[201212, 201301, 201303, 201306, 201309, 20131...</td>\n",
       "      <td>[18, 18, 18, 18, 17, 17, 27, 27, 23, 25, 25, 2...</td>\n",
       "    </tr>\n",
       "    <tr>\n",
       "      <th>2</th>\n",
       "      <td>1000232</td>\n",
       "      <td>2007</td>\n",
       "      <td>[{201203,18},{201206,19},{201209,18},{201303,2...</td>\n",
       "      <td>[201203, 201206, 201209, 201303, 201306, 20130...</td>\n",
       "      <td>[18, 19, 18, 26, 26, 24, 28, 28, 33, 30, 30, 2...</td>\n",
       "    </tr>\n",
       "    <tr>\n",
       "      <th>3</th>\n",
       "      <td>1000245</td>\n",
       "      <td>2005</td>\n",
       "      <td>[{201201,81},{201203,81},{201206,81},{201209,8...</td>\n",
       "      <td>[201201, 201203, 201206, 201209, 201303, 20130...</td>\n",
       "      <td>[81, 81, 81, 81, 81, 82, 82, 92, 92, 92, 94, 9...</td>\n",
       "    </tr>\n",
       "    <tr>\n",
       "      <th>4</th>\n",
       "      <td>1000287</td>\n",
       "      <td>2010</td>\n",
       "      <td>[{201506,19},{201612,41},{201701,40},{201703,4...</td>\n",
       "      <td>[201506, 201612, 201701, 201703, 201706, 20170...</td>\n",
       "      <td>[19, 41, 40, 40, 40, 39, 38, 38, 42, 43, 47, 4...</td>\n",
       "    </tr>\n",
       "  </tbody>\n",
       "</table>\n",
       "</div>"
      ],
      "text/plain": [
       "      vnid  vintage                                       PriceHistory   \n",
       "0  1000001     2013                                      [{202107,38}]  \\\n",
       "1  1000232     2008  [{201212,18},{201301,18},{201303,18},{201306,1...   \n",
       "2  1000232     2007  [{201203,18},{201206,19},{201209,18},{201303,2...   \n",
       "3  1000245     2005  [{201201,81},{201203,81},{201206,81},{201209,8...   \n",
       "4  1000287     2010  [{201506,19},{201612,41},{201701,40},{201703,4...   \n",
       "\n",
       "                                                date   \n",
       "0                                           [202107]  \\\n",
       "1  [201212, 201301, 201303, 201306, 201309, 20131...   \n",
       "2  [201203, 201206, 201209, 201303, 201306, 20130...   \n",
       "3  [201201, 201203, 201206, 201209, 201303, 20130...   \n",
       "4  [201506, 201612, 201701, 201703, 201706, 20170...   \n",
       "\n",
       "                                               price  \n",
       "0                                               [38]  \n",
       "1  [18, 18, 18, 18, 17, 17, 27, 27, 23, 25, 25, 2...  \n",
       "2  [18, 19, 18, 26, 26, 24, 28, 28, 33, 30, 30, 2...  \n",
       "3  [81, 81, 81, 81, 81, 82, 82, 92, 92, 92, 94, 9...  \n",
       "4  [19, 41, 40, 40, 40, 39, 38, 38, 42, 43, 47, 4...  "
      ]
     },
     "execution_count": 63,
     "metadata": {},
     "output_type": "execute_result"
    }
   ],
   "source": [
    "df.head()"
   ]
  },
  {
   "cell_type": "code",
   "execution_count": 64,
   "metadata": {},
   "outputs": [],
   "source": [
    "df = df.drop([\"PriceHistory\"], axis=1)"
   ]
  },
  {
   "cell_type": "code",
   "execution_count": 65,
   "metadata": {},
   "outputs": [
    {
     "data": {
      "text/html": [
       "<div>\n",
       "<style scoped>\n",
       "    .dataframe tbody tr th:only-of-type {\n",
       "        vertical-align: middle;\n",
       "    }\n",
       "\n",
       "    .dataframe tbody tr th {\n",
       "        vertical-align: top;\n",
       "    }\n",
       "\n",
       "    .dataframe thead th {\n",
       "        text-align: right;\n",
       "    }\n",
       "</style>\n",
       "<table border=\"1\" class=\"dataframe\">\n",
       "  <thead>\n",
       "    <tr style=\"text-align: right;\">\n",
       "      <th></th>\n",
       "      <th>vnid</th>\n",
       "      <th>vintage</th>\n",
       "      <th>date</th>\n",
       "      <th>price</th>\n",
       "    </tr>\n",
       "  </thead>\n",
       "  <tbody>\n",
       "    <tr>\n",
       "      <th>0</th>\n",
       "      <td>1000001</td>\n",
       "      <td>2013</td>\n",
       "      <td>[202107]</td>\n",
       "      <td>[38]</td>\n",
       "    </tr>\n",
       "    <tr>\n",
       "      <th>1</th>\n",
       "      <td>1000232</td>\n",
       "      <td>2008</td>\n",
       "      <td>[201212, 201301, 201303, 201306, 201309, 20131...</td>\n",
       "      <td>[18, 18, 18, 18, 17, 17, 27, 27, 23, 25, 25, 2...</td>\n",
       "    </tr>\n",
       "    <tr>\n",
       "      <th>2</th>\n",
       "      <td>1000232</td>\n",
       "      <td>2007</td>\n",
       "      <td>[201203, 201206, 201209, 201303, 201306, 20130...</td>\n",
       "      <td>[18, 19, 18, 26, 26, 24, 28, 28, 33, 30, 30, 2...</td>\n",
       "    </tr>\n",
       "    <tr>\n",
       "      <th>3</th>\n",
       "      <td>1000245</td>\n",
       "      <td>2005</td>\n",
       "      <td>[201201, 201203, 201206, 201209, 201303, 20130...</td>\n",
       "      <td>[81, 81, 81, 81, 81, 82, 82, 92, 92, 92, 94, 9...</td>\n",
       "    </tr>\n",
       "    <tr>\n",
       "      <th>4</th>\n",
       "      <td>1000287</td>\n",
       "      <td>2010</td>\n",
       "      <td>[201506, 201612, 201701, 201703, 201706, 20170...</td>\n",
       "      <td>[19, 41, 40, 40, 40, 39, 38, 38, 42, 43, 47, 4...</td>\n",
       "    </tr>\n",
       "  </tbody>\n",
       "</table>\n",
       "</div>"
      ],
      "text/plain": [
       "      vnid  vintage                                               date   \n",
       "0  1000001     2013                                           [202107]  \\\n",
       "1  1000232     2008  [201212, 201301, 201303, 201306, 201309, 20131...   \n",
       "2  1000232     2007  [201203, 201206, 201209, 201303, 201306, 20130...   \n",
       "3  1000245     2005  [201201, 201203, 201206, 201209, 201303, 20130...   \n",
       "4  1000287     2010  [201506, 201612, 201701, 201703, 201706, 20170...   \n",
       "\n",
       "                                               price  \n",
       "0                                               [38]  \n",
       "1  [18, 18, 18, 18, 17, 17, 27, 27, 23, 25, 25, 2...  \n",
       "2  [18, 19, 18, 26, 26, 24, 28, 28, 33, 30, 30, 2...  \n",
       "3  [81, 81, 81, 81, 81, 82, 82, 92, 92, 92, 94, 9...  \n",
       "4  [19, 41, 40, 40, 40, 39, 38, 38, 42, 43, 47, 4...  "
      ]
     },
     "execution_count": 65,
     "metadata": {},
     "output_type": "execute_result"
    }
   ],
   "source": [
    "df.head()"
   ]
  },
  {
   "attachments": {},
   "cell_type": "markdown",
   "metadata": {},
   "source": [
    "#### Know I want convert date to datetime format"
   ]
  },
  {
   "cell_type": "code",
   "execution_count": 66,
   "metadata": {},
   "outputs": [],
   "source": [
    "from datetime import datetime\n",
    "\n",
    "data = []\n",
    "\n",
    "# Iterate through each row\n",
    "for i, row in df.iterrows():\n",
    "    for date, price in zip(row['date'], row['price']):\n",
    "        \n",
    "        date_str = str(date) + \"01\"\n",
    "        date_dt = datetime.strptime(date_str, '%Y%m%d')\n",
    "        date_dt = date_dt.replace(day=1)\n",
    "        \n",
    "        data.append({'vnid': row['vnid'], 'vintage': row['vintage'], 'date': date_dt, 'price': price})\n",
    "\n",
    "# Create new dataframe\n",
    "df_new = pd.DataFrame(data)"
   ]
  },
  {
   "cell_type": "code",
   "execution_count": 67,
   "metadata": {},
   "outputs": [
    {
     "name": "stdout",
     "output_type": "stream",
     "text": [
      "<class 'pandas.core.frame.DataFrame'>\n",
      "RangeIndex: 1254 entries, 0 to 1253\n",
      "Data columns (total 4 columns):\n",
      " #   Column   Non-Null Count  Dtype         \n",
      "---  ------   --------------  -----         \n",
      " 0   vnid     1254 non-null   int64         \n",
      " 1   vintage  1254 non-null   int64         \n",
      " 2   date     1254 non-null   datetime64[ns]\n",
      " 3   price    1254 non-null   int64         \n",
      "dtypes: datetime64[ns](1), int64(3)\n",
      "memory usage: 39.3 KB\n"
     ]
    }
   ],
   "source": [
    "df_new.info() # Check for type and null values"
   ]
  },
  {
   "cell_type": "code",
   "execution_count": 68,
   "metadata": {},
   "outputs": [],
   "source": [
    "# df_new['date'] = pd.to_datetime(df_new['date'], format='%Y%m')"
   ]
  },
  {
   "cell_type": "code",
   "execution_count": 69,
   "metadata": {},
   "outputs": [
    {
     "data": {
      "text/html": [
       "<div>\n",
       "<style scoped>\n",
       "    .dataframe tbody tr th:only-of-type {\n",
       "        vertical-align: middle;\n",
       "    }\n",
       "\n",
       "    .dataframe tbody tr th {\n",
       "        vertical-align: top;\n",
       "    }\n",
       "\n",
       "    .dataframe thead th {\n",
       "        text-align: right;\n",
       "    }\n",
       "</style>\n",
       "<table border=\"1\" class=\"dataframe\">\n",
       "  <thead>\n",
       "    <tr style=\"text-align: right;\">\n",
       "      <th></th>\n",
       "      <th>vnid</th>\n",
       "      <th>vintage</th>\n",
       "      <th>date</th>\n",
       "      <th>price</th>\n",
       "    </tr>\n",
       "  </thead>\n",
       "  <tbody>\n",
       "    <tr>\n",
       "      <th>0</th>\n",
       "      <td>1000001</td>\n",
       "      <td>2013</td>\n",
       "      <td>2021-07-01</td>\n",
       "      <td>38</td>\n",
       "    </tr>\n",
       "    <tr>\n",
       "      <th>1</th>\n",
       "      <td>1000232</td>\n",
       "      <td>2008</td>\n",
       "      <td>2012-12-01</td>\n",
       "      <td>18</td>\n",
       "    </tr>\n",
       "    <tr>\n",
       "      <th>2</th>\n",
       "      <td>1000232</td>\n",
       "      <td>2008</td>\n",
       "      <td>2013-01-01</td>\n",
       "      <td>18</td>\n",
       "    </tr>\n",
       "    <tr>\n",
       "      <th>3</th>\n",
       "      <td>1000232</td>\n",
       "      <td>2008</td>\n",
       "      <td>2013-03-01</td>\n",
       "      <td>18</td>\n",
       "    </tr>\n",
       "    <tr>\n",
       "      <th>4</th>\n",
       "      <td>1000232</td>\n",
       "      <td>2008</td>\n",
       "      <td>2013-06-01</td>\n",
       "      <td>18</td>\n",
       "    </tr>\n",
       "  </tbody>\n",
       "</table>\n",
       "</div>"
      ],
      "text/plain": [
       "      vnid  vintage       date  price\n",
       "0  1000001     2013 2021-07-01     38\n",
       "1  1000232     2008 2012-12-01     18\n",
       "2  1000232     2008 2013-01-01     18\n",
       "3  1000232     2008 2013-03-01     18\n",
       "4  1000232     2008 2013-06-01     18"
      ]
     },
     "execution_count": 69,
     "metadata": {},
     "output_type": "execute_result"
    }
   ],
   "source": [
    "df_new.head()"
   ]
  },
  {
   "attachments": {},
   "cell_type": "markdown",
   "metadata": {},
   "source": [
    "# 📌 Codex - VNID and VINTAGE"
   ]
  },
  {
   "cell_type": "code",
   "execution_count": 70,
   "metadata": {},
   "outputs": [],
   "source": [
    "vnid_list = df_new[\"vnid\"].unique()"
   ]
  },
  {
   "cell_type": "code",
   "execution_count": 71,
   "metadata": {},
   "outputs": [
    {
     "name": "stdout",
     "output_type": "stream",
     "text": [
      "vnid : 1000001, vintage : [2013]\n",
      "vnid : 1000232, vintage : [2008 2007]\n",
      "vnid : 1000245, vintage : [2005]\n",
      "vnid : 1000287, vintage : [2010 1990 2008 2012 2009 2011 2013 2007]\n",
      "vnid : 1000359, vintage : [2016]\n",
      "vnid : 1000391, vintage : [2010]\n",
      "vnid : 1000535, vintage : [2019 2007 2004 2018]\n",
      "vnid : 1000548, vintage : [2011]\n",
      "vnid : 1000564, vintage : [2011 2014 2012 2007 2008 2009 2010]\n",
      "vnid : 1000577, vintage : [2011 2010 2012 2013 2007 2008 2009]\n",
      "vnid : 1000580, vintage : [2013 2009 2011 2007]\n",
      "vnid : 1000593, vintage : [2010]\n"
     ]
    }
   ],
   "source": [
    "for vnid in vnid_list:\n",
    "    vnid_data = df_new[df_new[\"vnid\"] == vnid]\n",
    "    vintage_list = vnid_data[\"vintage\"].unique()\n",
    "    \n",
    "    print(f\"vnid : {vnid}, vintage : {vintage_list}\")"
   ]
  },
  {
   "cell_type": "code",
   "execution_count": null,
   "metadata": {},
   "outputs": [],
   "source": []
  }
 ],
 "metadata": {
  "kernelspec": {
   "display_name": "scrapping",
   "language": "python",
   "name": "python3"
  },
  "language_info": {
   "codemirror_mode": {
    "name": "ipython",
    "version": 3
   },
   "file_extension": ".py",
   "mimetype": "text/x-python",
   "name": "python",
   "nbconvert_exporter": "python",
   "pygments_lexer": "ipython3",
   "version": "3.11.3"
  },
  "orig_nbformat": 4
 },
 "nbformat": 4,
 "nbformat_minor": 2
}
